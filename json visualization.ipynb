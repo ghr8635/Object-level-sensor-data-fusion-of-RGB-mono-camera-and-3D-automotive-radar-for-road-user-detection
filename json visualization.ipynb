{
 "cells": [
  {
   "cell_type": "code",
   "execution_count": 99,
   "metadata": {},
   "outputs": [],
   "source": [
    "import json \n",
    "import cv2\n",
    "from pathlib import Path"
   ]
  },
  {
   "cell_type": "code",
   "execution_count": 100,
   "metadata": {},
   "outputs": [],
   "source": [
    "#xywh to xyxy\n",
    "def xywh_to_xyxy(xywh_array):\n",
    "    x1, y1, x2, y2 = xywh_array[0], xywh_array[1], xywh_array[0] + xywh_array[2], xywh_array[1] + xywh_array[3]\n",
    "\n",
    "    return [(int(x1), int(y1)), (int(x2), int(y2))]"
   ]
  },
  {
   "cell_type": "code",
   "execution_count": 101,
   "metadata": {},
   "outputs": [],
   "source": [
    "#bbox extractor \n",
    "def bbox_array(json_file):\n",
    "    opened_json = open(json_file, 'r')\n",
    "    json_data = json.load(opened_json)\n",
    "    array = []\n",
    "    for detection in json_data ['annotations']:\n",
    "        xyxy_data = xywh_to_xyxy(detection['bbox'])\n",
    "        array.append(xyxy_data)\n",
    "    return array"
   ]
  },
  {
   "cell_type": "code",
   "execution_count": 102,
   "metadata": {},
   "outputs": [],
   "source": [
    "#Main Visualizing script\n",
    "image_path = Path(r'C:\\Users\\hussa\\OneDrive\\Desktop\\Project\\Dataset\\INFRA-3DRC_scene-04\\INFRA-3DRC_scene-04\\camera_01\\camera_01__data')\n",
    "json_path = Path(r'C:\\Users\\hussa\\OneDrive\\Desktop\\Project\\Dataset\\INFRA-3DRC_scene-04\\INFRA-3DRC_scene-04\\camera_01\\camera_01__annotation')\n",
    "\n",
    "image_list = list(image for image in image_path.iterdir())\n",
    "json_list = list(json for json in json_path.iterdir())\n",
    "\n",
    "image_list.sort()\n",
    "json_list.sort()\n",
    "\n",
    "for number in range(len(image_list)):\n",
    "    read_image = cv2.imread(str(image_list[number]))\n",
    "    bboxes = bbox_array(json_list[number])\n",
    "    for bbox in bboxes:\n",
    "        cv2.rectangle(read_image, bbox[0], bbox[1], (0,255,0), 2)\n",
    "    cv2.imshow('Image',read_image)\n",
    "    cv2.waitKey(10)\n",
    "cv2.destroyAllWindows()\n",
    "\n",
    "                   "
   ]
  }
 ],
 "metadata": {
  "kernelspec": {
   "display_name": "base",
   "language": "python",
   "name": "python3"
  },
  "language_info": {
   "codemirror_mode": {
    "name": "ipython",
    "version": 3
   },
   "file_extension": ".py",
   "mimetype": "text/x-python",
   "name": "python",
   "nbconvert_exporter": "python",
   "pygments_lexer": "ipython3",
   "version": "3.11.7"
  }
 },
 "nbformat": 4,
 "nbformat_minor": 2
}
