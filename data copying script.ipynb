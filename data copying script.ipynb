{
 "cells": [
  {
   "cell_type": "code",
   "execution_count": 2,
   "metadata": {},
   "outputs": [],
   "source": [
    "# Creating directorties \n",
    "from pathlib import Path\n",
    "import os\n",
    "import random\n",
    "import shutil\n",
    "root_folder = Path('dataset')\n",
    "paths_dict = {\n",
    "    'train_images' : Path(root_folder, 'images', 'train'),\n",
    "    'val_images' : Path(root_folder, 'images' , 'val'),\n",
    "    'train_labels' : Path(root_folder, 'labels', 'train'),\n",
    "    'val_labels' : Path(root_folder, 'labels', 'val')\n",
    "}\n",
    "for value in paths_dict.values():\n",
    "    value.mkdir(parents=True, exist_ok=True)"
   ]
  },
  {
   "cell_type": "code",
   "execution_count": null,
   "metadata": {},
   "outputs": [],
   "source": [
    "#Copying Images \n",
    "\n",
    "source_path_folders = {\n",
    "\n",
    "    'source_path_images_1' : Path(r\"C:\\Users\\hussa\\OneDrive\\Desktop\\Project\\Dataset\\INFRA-3DRC_scene-4\\INFRA-3DRC_scene-4\\camera_01\\camera_01__data\"),\n",
    "    'source_path_images_2' : Path(r'C:\\Users\\hussa\\OneDrive\\Desktop\\Project\\Dataset\\INFRA-3DRC_scene-15\\INFRA-3DRC_scene-15\\camera_01\\camera_01__data'),\n",
    "    'source_path_images_3' : Path(r'C:\\Users\\hussa\\OneDrive\\Desktop\\Project\\Dataset\\INFRA-3DRC_scene-23\\INFRA-3DRC_scene-23\\camera_01\\camera_01__data')\n",
    "}\n",
    "\n",
    "destination_path = Path('combined images')                               #will contain all images for all scenarios  (train plus val)\n",
    "\n",
    "destination_path.mkdir(parents=True, exist_ok=True)             \n",
    "\n",
    "for value in source_path_folders.values():\n",
    "    for file in value.iterdir():\n",
    "        shutil.copyfile(file, destination_path/file.name)\n",
    "\n",
    "list_of_files_in_source = list(destination_path.iterdir())                    #Shuffling the files to choose random files on every selection\n",
    "random.shuffle(list_of_files_in_source)\n",
    "\n",
    "\n",
    "Total_count_images = len(list_of_files_in_source)\n",
    "\n",
    "[old_file.unlink() for old_file in paths_dict['train_images'].iterdir()]        #Deleting previous files in train_labels folder\n",
    "[old_file.unlink() for old_file in paths_dict['val_images'].iterdir()]          #Deleting previous files in val_labels folder\n",
    "\n",
    "for images in list_of_files_in_source:\n",
    "    if len([*paths_dict['train_images'].iterdir()]) <= int(0.7 * Total_count_images):\n",
    "        shutil.copyfile(images, paths_dict['train_images']/images.name)\n",
    "    else:\n",
    "        shutil.copyfile(images, paths_dict['val_images']/images.name)\n",
    "\n",
    "\n"
   ]
  },
  {
   "cell_type": "code",
   "execution_count": null,
   "metadata": {},
   "outputs": [],
   "source": [
    "#Copying annotations\n",
    "source_path_folders = {\n",
    "\n",
    "    'source_path_images_1' : Path(r\"C:\\Users\\hussa\\OneDrive\\Desktop\\Project\\Dataset\\INFRA-3DRC_scene-04\\INFRA-3DRC_scene-04\\camera_01\\camera_01__annotation\"),\n",
    "    'source_path_images_2' : Path(r'C:\\Users\\hussa\\OneDrive\\Desktop\\Project\\Dataset\\INFRA-3DRC_scene-15\\INFRA-3DRC_scene-15\\camera_01\\camera_01__annotation'),\n",
    "    'source_path_images_3' : Path(r'C:\\Users\\hussa\\OneDrive\\Desktop\\Project\\Dataset\\INFRA-3DRC_scene-23\\INFRA-3DRC_scene-23\\camera_01\\camera_01__annotation')\n",
    "}\n",
    "\n",
    "destination_path = Path('combined labels')                               #will contain all images for all scenarios  (train plus val)\n",
    "\n",
    "destination_path.mkdir(parents=True, exist_ok=True)             \n",
    "\n",
    "for key, value in source_path_folders.items():\n",
    "    for file in value.iterdir():\n",
    "        shutil.copyfile(file, destination_path/file.name)\n",
    "\n",
    "list_of_files_in_source = list(destination_path.iterdir())                    #Shuffling the files to choose random files on every selection\n",
    "random.shuffle(list_of_files_in_source)\n",
    "\n",
    "Total_count_labels = len(list_of_files_in_source)\n",
    "\n",
    "[old_file.unlink() for old_file in paths_dict['train_labels'].iterdir()]        #Deleting previous files in train_labels folder\n",
    "[old_file.unlink() for old_file in paths_dict['val_labels'].iterdir()]          #Deleting previous files in val_labels folder\n",
    "\n",
    "for labels in list_of_files_in_source:\n",
    "    if len([*paths_dict['train_labels'].iterdir()]) <= int(0.7 * Total_count_labels):\n",
    "        shutil.copyfile(labels, paths_dict['train_labels']/labels.name)\n",
    "    else:\n",
    "        shutil.copyfile(labels, paths_dict['val_labels']/labels.name)\n",
    "\n"
   ]
  }
 ],
 "metadata": {
  "kernelspec": {
   "display_name": "Python 3 (ipykernel)",
   "language": "python",
   "name": "python3"
  },
  "language_info": {
   "codemirror_mode": {
    "name": "ipython",
    "version": 3
   },
   "file_extension": ".py",
   "mimetype": "text/x-python",
   "name": "python",
   "nbconvert_exporter": "python",
   "pygments_lexer": "ipython3",
   "version": "3.11.7"
  }
 },
 "nbformat": 4,
 "nbformat_minor": 2
}
