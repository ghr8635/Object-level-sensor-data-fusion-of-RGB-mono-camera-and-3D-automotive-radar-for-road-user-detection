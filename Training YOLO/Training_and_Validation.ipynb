{
 "cells": [
  {
   "cell_type": "code",
   "execution_count": 1,
   "metadata": {},
   "outputs": [],
   "source": [
    "import torch\n",
    "from ultralytics import YOLO\n",
    "\n",
    "\n",
    "device = torch.device('cuda' if torch.cuda.is_available() else 'cpu')"
   ]
  },
  {
   "cell_type": "markdown",
   "metadata": {},
   "source": [
    "New Training"
   ]
  },
  {
   "cell_type": "code",
   "execution_count": null,
   "metadata": {},
   "outputs": [],
   "source": [
    "# Load a model\n",
    "model = YOLO('yolov8n.pt')  \n",
    "\n",
    "#Training\n",
    "results = model.train(data=r'C:\\Dk\\Projects\\Team Project\\YOLO detection\\Training Setup\\coco_colab MK2.yaml', epochs=300, batch=8)"
   ]
  },
  {
   "cell_type": "markdown",
   "metadata": {},
   "source": [
    "Resume the Training"
   ]
  },
  {
   "cell_type": "code",
   "execution_count": null,
   "metadata": {},
   "outputs": [],
   "source": [
    "# Load the partially trained model\n",
    "model = YOLO(r\"C:\\Dk\\Projects\\Team Project\\YOLO detection\\Models\\runs\\train32\\weights\\best.pt\")  \n",
    "\n",
    "#Training\n",
    "results = model.train(data=r'C:\\Dk\\Projects\\Team Project\\YOLO detection\\Training Setup\\coco_colab MK2.yaml', resume=True)"
   ]
  },
  {
   "cell_type": "markdown",
   "metadata": {},
   "source": [
    "Model Validation"
   ]
  },
  {
   "cell_type": "code",
   "execution_count": 3,
   "metadata": {},
   "outputs": [
    {
     "name": "stdout",
     "output_type": "stream",
     "text": [
      "Ultralytics YOLOv8.1.47  Python-3.12.3 torch-2.2.2+cu121 CUDA:0 (NVIDIA GeForce GTX 1050 Ti, 4096MiB)\n",
      "Model summary (fused): 268 layers, 43610463 parameters, 0 gradients\n"
     ]
    },
    {
     "name": "stderr",
     "output_type": "stream",
     "text": [
      "\u001b[34m\u001b[1mval: \u001b[0mScanning C:\\Dk\\Projects\\Team Project\\YOLO detection\\Training Setup\\labels\\val.cache... 506 images, 3 backgrounds, 0 corrupt: 100%|██████████| 506/506 [00:00<?, ?it/s]\n",
      "                 Class     Images  Instances      Box(P          R      mAP50  mAP50-95): 100%|██████████| 32/32 [00:36<00:00,  1.15s/it]\n"
     ]
    },
    {
     "name": "stdout",
     "output_type": "stream",
     "text": [
      "                   all        506        780      0.994      0.998      0.995      0.893\n",
      "                 adult        506        105          1      0.991      0.995      0.858\n",
      "               bicycle        506         85      0.987          1      0.995      0.874\n",
      "            motorcycle        506         16      0.997          1      0.995      0.866\n",
      "                   car        506        518      0.994      0.997      0.995      0.916\n",
      "                   bus        506         56      0.993          1      0.995      0.951\n",
      "Speed: 0.4ms preprocess, 60.5ms inference, 0.0ms loss, 1.2ms postprocess per image\n",
      "Results saved to \u001b[1mruns\\detect\\val8\u001b[0m\n"
     ]
    }
   ],
   "source": [
    "# Load the trained model\n",
    "model = YOLO(r\"C:\\Dk\\Projects\\Team Project\\YOLO detection\\Models\\runs\\train32\\weights\\best.pt\")  \n",
    "\n",
    "# Resume training\n",
    "results = model.val(data=r'C:\\Dk\\Projects\\Team Project\\YOLO detection\\Training Setup\\coco_colab MK2.yaml')\n"
   ]
  }
 ],
 "metadata": {
  "kernelspec": {
   "display_name": "Python 3",
   "language": "python",
   "name": "python3"
  },
  "language_info": {
   "codemirror_mode": {
    "name": "ipython",
    "version": 3
   },
   "file_extension": ".py",
   "mimetype": "text/x-python",
   "name": "python",
   "nbconvert_exporter": "python",
   "pygments_lexer": "ipython3",
   "version": "3.12.3"
  }
 },
 "nbformat": 4,
 "nbformat_minor": 2
}
