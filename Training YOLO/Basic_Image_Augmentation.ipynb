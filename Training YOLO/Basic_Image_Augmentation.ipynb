{
 "cells": [
  {
   "cell_type": "code",
   "execution_count": 3,
   "metadata": {},
   "outputs": [],
   "source": [
    "import torch\n",
    "from PIL import Image\n",
    "import imgaug.augmenters as iaa\n",
    "import numpy as np\n",
    "import os"
   ]
  },
  {
   "cell_type": "code",
   "execution_count": 4,
   "metadata": {},
   "outputs": [],
   "source": [
    "device = torch.device('cuda' if torch.cuda.is_available() else 'cpu')"
   ]
  },
  {
   "cell_type": "code",
   "execution_count": 7,
   "metadata": {},
   "outputs": [],
   "source": [
    "# Image Augmentation\n",
    "def augment_image(image):\n",
    "\n",
    "    # Define the augmentation pipeline\n",
    "    augmented_image = iaa.Sequential([\n",
    "        # iaa.Resize({\"height\": 600, \"width\": 800}),  # resize images\n",
    "        # iaa.Fliplr(0.5),  # horizontally flip 50% of the images\n",
    "        # iaa.GaussianBlur(sigma=(0, 3.0)),  # blur images with a sigma of 0 to 3.0\n",
    "        iaa.AdditiveGaussianNoise(scale=(5, 20)),  # add gaussian noise to images\n",
    "        iaa.LinearContrast((0.75, 1.25)),  # change contrast\n",
    "        iaa.Multiply((0.8, 1.2)),  # change brightness\n",
    "    ])(image=image)\n",
    "\n",
    "    return augmented_image\n"
   ]
  },
  {
   "cell_type": "code",
   "execution_count": 10,
   "metadata": {},
   "outputs": [],
   "source": [
    "source= r'C:\\Dk\\Projects\\Team Project\\Dataset\\INFRA-3DRC-Dataset\\INFRA-3DRC_scene-04'\n",
    "\n",
    "image_source = os.path.join(source, 'camera_01', 'camera_01__data')\n",
    "label_source = os.path.join(source, 'camera_01', 'camera_01__annotation')\n",
    "\n",
    "image_files = os.listdir(image_source)\n",
    "\n",
    "for image in image_files:\n",
    "    \n",
    "    # Load the image\n",
    "    img = Image.open(os.path.join(image_source,image))\n",
    "    img_array = np.array(img)\n",
    "\n",
    "    # Apply the augmentations\n",
    "    image_aug = augment_image(img_array)\n",
    "\n",
    "    # Convert back to PIL image and save\n",
    "    image_augmented = Image.fromarray(image_aug.astype(np.uint8))\n",
    "    image_augmented.save(os.path.join(r'C:\\Dk\\Projects\\Team Project\\Dataset\\INFRA-3DRC-Dataset\\INFRA-3DRC_scene-04_augmented', image))\n"
   ]
  }
 ],
 "metadata": {
  "kernelspec": {
   "display_name": "Python 3",
   "language": "python",
   "name": "python3"
  },
  "language_info": {
   "codemirror_mode": {
    "name": "ipython",
    "version": 3
   },
   "file_extension": ".py",
   "mimetype": "text/x-python",
   "name": "python",
   "nbconvert_exporter": "python",
   "pygments_lexer": "ipython3",
   "version": "3.12.3"
  }
 },
 "nbformat": 4,
 "nbformat_minor": 2
}
