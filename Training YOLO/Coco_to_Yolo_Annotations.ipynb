{
 "cells": [
  {
   "cell_type": "code",
   "execution_count": 1,
   "metadata": {},
   "outputs": [
    {
     "data": {
      "text/plain": [
       "[0.5, 0.5, 0.9, 0.9]"
      ]
     },
     "execution_count": 1,
     "metadata": {},
     "output_type": "execute_result"
    }
   ],
   "source": [
    "def convert_coco_to_yolo(bbox, image_width, image_height):\n",
    "    \"\"\"\n",
    "    Convert bounding box coordinates from COCO format to YOLO format.\n",
    "\n",
    "    Parameters:\n",
    "    bbox (list): A list of four numbers representing the bounding box in COCO format [x, y, width, height].\n",
    "    image_width (int): The width of the image.\n",
    "    image_height (int): The height of the image.\n",
    "\n",
    "    Returns:\n",
    "    list: A list of four numbers representing the bounding box in YOLO format [x_center, y_center, width, height].\n",
    "    \"\"\"\n",
    "    # Convert the bounding box from COCO format to YOLO format\n",
    "    x_center = (bbox[0] + bbox[2] / 2) / image_width\n",
    "    y_center = (bbox[1] + bbox[3] / 2) / image_height\n",
    "    width = bbox[2] / image_width\n",
    "    height = bbox[3] / image_height\n",
    "\n",
    "    return [x_center, y_center, width, height]\n"
   ]
  },
  {
   "cell_type": "code",
   "execution_count": null,
   "metadata": {},
   "outputs": [],
   "source": [
    "import json\n",
    "import os\n",
    "\n",
    "# Define the path to the COCO annotations file\n",
    "coco_annotations_path = \"/path/to/your/coco/annotations.json\"\n",
    "\n",
    "# Load the COCO annotations\n",
    "with open(coco_annotations_path, \"r\") as f:\n",
    "    coco_annotations = json.load(f)\n",
    "\n",
    "# Iterate over each image in the COCO annotations\n",
    "for image in coco_annotations[\"images\"]:\n",
    "    # Get the image ID and the image size\n",
    "    image_id = image[\"id\"]\n",
    "    image_width = image[\"width\"]\n",
    "    image_height = image[\"height\"]\n",
    "\n",
    "    # Create a list to store the YOLO annotations for this image\n",
    "    yolo_annotations = []\n",
    "\n",
    "    # Iterate over each annotation in the COCO annotations\n",
    "    for annotation in coco_annotations[\"annotations\"]:\n",
    "        # Check if this annotation belongs to the current image\n",
    "        if annotation[\"image_id\"] == image_id:\n",
    "            # Get the bounding box and the category ID\n",
    "            bbox = annotation[\"bbox\"]\n",
    "            category_id = annotation[\"category_id\"]\n",
    "\n",
    "            # Convert the bounding box from COCO format to YOLO format\n",
    "            x_center = (bbox[0] + bbox[2] / 2) / image_width\n",
    "            y_center = (bbox[1] + bbox[3] / 2) / image_height\n",
    "            width = bbox[2] / image_width\n",
    "            height = bbox[3] / image_height\n",
    "\n",
    "            # Add the YOLO annotation to the list\n",
    "            yolo_annotations.append(f\"{category_id} {x_center} {y_center} {width} {height}\")\n",
    "\n",
    "    # Define the path to the YOLO annotations file\n",
    "    yolo_annotations_path = f\"/path/to/your/yolo/annotations/{image_id}.txt\"\n",
    "\n",
    "    # Save the YOLO annotations to a file\n",
    "    with open(yolo_annotations_path, \"w\") as f:\n",
    "        f.write(\"\\n\".join(yolo_annotations))\n",
    "\n",
    "print(\"COCO annotations have been successfully converted to YOLO format.\")\n"
   ]
  }
 ],
 "metadata": {
  "kernelspec": {
   "display_name": "Python 3",
   "language": "python",
   "name": "python3"
  },
  "language_info": {
   "codemirror_mode": {
    "name": "ipython",
    "version": 3
   },
   "file_extension": ".py",
   "mimetype": "text/x-python",
   "name": "python",
   "nbconvert_exporter": "python",
   "pygments_lexer": "ipython3",
   "version": "3.12.3"
  }
 },
 "nbformat": 4,
 "nbformat_minor": 2
}
