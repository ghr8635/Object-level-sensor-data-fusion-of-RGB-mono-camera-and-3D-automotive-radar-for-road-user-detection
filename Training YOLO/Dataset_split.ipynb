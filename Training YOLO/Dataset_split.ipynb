{
 "cells": [
  {
   "cell_type": "markdown",
   "metadata": {},
   "source": [
    "Split dataset into Training and Validation directories"
   ]
  },
  {
   "cell_type": "code",
   "execution_count": null,
   "metadata": {},
   "outputs": [],
   "source": [
    "# Dataset split in Training and Validation directories\n",
    "\n",
    "import os\n",
    "import shutil\n",
    "import random\n",
    "import json\n",
    "\n",
    "# Define the source directory and the destination directories\n",
    "source_dir = r\"C:\\Dk\\Projects\\Team Project\\Dataset\\INFRA-3DRC-Dataset\"\n",
    "train_dir = r\"C:\\Dk\\Projects\\Team Project\\YOLO detection\\Training Dataset\\Training\"\n",
    "val_dir = r\"C:\\Dk\\Projects\\Team Project\\YOLO detection\\Training Dataset\\Validation\"\n",
    "annotation_dir = r\"C:\\Dk\\Projects\\Team Project\\YOLO detection\\Training Dataset\\Labels\"\n",
    "\n",
    "# Define the split ratio for training and validation\n",
    "split_ratio = 0.8\n",
    "\n",
    "# Get the list of subfolders in the source directory\n",
    "scenes = [f.path for f in os.scandir(source_dir) if f.is_dir()]\n",
    "\n",
    "# Iterate over each scene\n",
    "for scene in scenes:\n",
    "    # Get the path to the 'camera_01__data' directory\n",
    "    data_dir = os.path.join(scene, 'camera_01', 'camera_01__data')\n",
    "    label_dir = os.path.join(scene, 'camera_01', 'camera_01__annotation')\n",
    "    \n",
    "    # Check if the 'camera_01__data' directory exists\n",
    "    if os.path.exists(data_dir):\n",
    "        # Get the list of images in the 'camera_01__data' directory\n",
    "        images = os.listdir(data_dir)\n",
    "        \n",
    "        # Shuffle the images to ensure a random split\n",
    "        random.shuffle(images)\n",
    "        \n",
    "        # Calculate the number of images for training\n",
    "        train_count = int(len(images) * split_ratio)\n",
    "        \n",
    "        # Split the images into training and validation sets\n",
    "        train_images = images[:train_count]\n",
    "        val_images = images[train_count:]\n",
    "        \n",
    "        # Copy the training images to the training directory\n",
    "        for image in train_images:\n",
    "            shutil.copy(os.path.join(data_dir, image), train_dir)\n",
    "        \n",
    "        # Copy the validation images to the validation directory\n",
    "        for image in val_images:\n",
    "            shutil.copy(os.path.join(data_dir, image), val_dir)\n",
    "\n",
    "        # Check if the 'camera_01__data' directory exists\n",
    "    \n",
    "    if os.path.exists(label_dir):\n",
    "        # Get the list of labels in the 'camera_01__annotation' directory\n",
    "        labels = os.listdir(label_dir)\n",
    "        \n",
    "        # Copy the training images to the training directory\n",
    "        for label in labels:\n",
    "            shutil.copy(os.path.join(label_dir, label), annotation_dir)\n",
    "        \n",
    "\n",
    "print(\"Images have been successfully sampled to the training and validation directories.\")\n"
   ]
  }
 ],
 "metadata": {
  "language_info": {
   "name": "python"
  }
 },
 "nbformat": 4,
 "nbformat_minor": 2
}
