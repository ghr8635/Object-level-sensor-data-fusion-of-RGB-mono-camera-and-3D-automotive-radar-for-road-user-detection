{
 "cells": [
  {
   "cell_type": "code",
   "execution_count": 6,
   "metadata": {},
   "outputs": [],
   "source": [
    "import os\n",
    "import shutil\n",
    "import random\n",
    "import json\n",
    "from pathlib import Path"
   ]
  },
  {
   "cell_type": "markdown",
   "metadata": {},
   "source": [
    "COCO to YOLO: Class mapping"
   ]
  },
  {
   "cell_type": "code",
   "execution_count": 7,
   "metadata": {},
   "outputs": [],
   "source": [
    "# Define class_id mapping here.\n",
    "class_id_mapping = {\n",
    "    1: 0,   #adult\n",
    "    4: 1,   #bicycle\n",
    "    5: 2,   #motorcycle\n",
    "    6: 3,   #car\n",
    "    7: 4,   #bus\n",
    "}\n",
    "\n",
    "# Then use the mapping in your code\n",
    "# json_info[\"class_id\"] = class_id_mapping[item[\"category_id\"]]\n"
   ]
  },
  {
   "cell_type": "markdown",
   "metadata": {},
   "source": [
    "COCO to YOLO: Coordinates mapping"
   ]
  },
  {
   "cell_type": "code",
   "execution_count": 8,
   "metadata": {},
   "outputs": [],
   "source": [
    "def convert_coco_to_yolo(bbox, image_width, image_height):\n",
    "    \"\"\"\n",
    "    Convert bounding box coordinates from COCO format to YOLO format.\n",
    "\n",
    "    Parameters:\n",
    "    bbox (list): A list of four numbers representing the bounding box in COCO format [x, y, width, height].\n",
    "    image_width (int): The width of the image.\n",
    "    image_height (int): The height of the image.\n",
    "\n",
    "    Returns:\n",
    "    list: A list of four numbers representing the bounding box in YOLO format [x_center, y_center, width, height].\n",
    "    \"\"\"\n",
    "    # Convert the bounding box from COCO format to YOLO format\n",
    "    x_center = (bbox[0] + bbox[2] / 2) / image_width\n",
    "    y_center = (bbox[1] + bbox[3] / 2) / image_height\n",
    "    width = bbox[2] / image_width\n",
    "    height = bbox[3] / image_height\n",
    "\n",
    "    return [x_center, y_center, width, height]"
   ]
  },
  {
   "cell_type": "markdown",
   "metadata": {},
   "source": [
    "COCO to YOLO: Annotations mapping"
   ]
  },
  {
   "cell_type": "code",
   "execution_count": 9,
   "metadata": {},
   "outputs": [],
   "source": [
    "def process_images(images, data_dir, label_dir, image_output_dir, label_output_dir):\n",
    "    for image in images:\n",
    "        # Copy the image to the output directory\n",
    "        shutil.copy(data_dir / image, image_output_dir)\n",
    "\n",
    "        # Fetch corresponding Json file name\n",
    "        json_file = label_dir / (os.path.splitext(image)[0] + '.json')\n",
    "\n",
    "        # Load corresponding Json file\n",
    "        with open(json_file) as f:\n",
    "            ground_truth = json.load(f)\n",
    "\n",
    "        # Define required info dictionary\n",
    "        json_info = {\"class_id\": 0, \"x_top\": 0, \"y_top\": 0, \"width\": 0, \"height\": 0}\n",
    "\n",
    "        # Write image height and width in the dictionary\n",
    "        image_height = ground_truth[\"image\"][\"height\"]\n",
    "        image_width = ground_truth[\"image\"][\"width\"]\n",
    "\n",
    "        json_annotations = [] \n",
    "\n",
    "        # Write class_id and coordinates for all annotations\n",
    "        for item in ground_truth[\"annotations\"]:\n",
    "            json_info[\"class_id\"] = class_id_mapping[item[\"category_id\"]]\n",
    "            json_info[\"x_top\"], json_info[\"y_top\"], json_info[\"width\"], json_info[\"height\"] = item[\"bbox\"]\n",
    "\n",
    "            # convert coco coordinates to yolo coordinates    \n",
    "            annotation = convert_coco_to_yolo((json_info[\"x_top\"], json_info[\"y_top\"], json_info[\"width\"], json_info[\"height\"]), image_width, image_height)\n",
    "            annotation = \" \".join(map(str, annotation))\n",
    "\n",
    "            json_annotations.append((json_info[\"class_id\"], annotation, \"\\n\"))\n",
    "\n",
    "        # write txt file\n",
    "        output_file = (label_output_dir / image).with_suffix(\".txt\")\n",
    "\n",
    "        with open(output_file,\"a\") as file:\n",
    "            for line in json_annotations:\n",
    "                file.write(\" \".join(map(str, line)))"
   ]
  },
  {
   "cell_type": "markdown",
   "metadata": {},
   "source": [
    "Dataset Split"
   ]
  },
  {
   "cell_type": "code",
   "execution_count": 10,
   "metadata": {},
   "outputs": [
    {
     "name": "stdout",
     "output_type": "stream",
     "text": [
      "Images have been successfully sampled to the training and validation directories.\n"
     ]
    }
   ],
   "source": [
    "# Define the source directory and the destination directories\n",
    "source_dir = Path(r\"C:\\Users\\samco\\Downloads\\New folder\")\n",
    "image_train_dir = Path(r\"C:\\Dk\\Projects\\Team Project\\YOLO detection\\Training Setup_augmented\\images\\train\")\n",
    "label_train_dir = Path(r\"C:\\Dk\\Projects\\Team Project\\YOLO detection\\Training Setup_augmented\\labels\\train\")\n",
    "image_val_dir = Path(r\"C:\\Dk\\Projects\\Team Project\\YOLO detection\\Training Setup_augmented\\images\\val\")\n",
    "label_val_dir = Path(r\"C:\\Dk\\Projects\\Team Project\\YOLO detection\\Training Setup_augmented\\labels\\val\")\n",
    "\n",
    "# Define the split ratio for training and validation\n",
    "split_ratio = 0.8\n",
    "\n",
    "# Get the list of subfolders in the source directory\n",
    "scenes = [f.path for f in os.scandir(source_dir) if f.is_dir()]\n",
    "\n",
    "# Iterate over each scene\n",
    "for scene in scenes:\n",
    "    # Get the path to the 'camera_01__data' and 'camera_01__annotation' directory\n",
    "    data_dir = Path(scene) / 'camera_01' / 'camera_01__data'\n",
    "    label_dir = Path(scene) / 'camera_01' / 'camera_01__annotation'\n",
    "\n",
    "    # Check if the 'camera_01__data' directory exists\n",
    "    if data_dir.exists():\n",
    "        # Get the list of images in the 'camera_01__data' directory\n",
    "        images = os.listdir(data_dir)\n",
    "\n",
    "        # Shuffle the images to ensure a random split\n",
    "        random.shuffle(images)\n",
    "\n",
    "        # Calculate the number of images for training\n",
    "        train_count = int(len(images) * split_ratio)\n",
    "\n",
    "        # Split the images into training and validation sets\n",
    "        train_images = images[:train_count]\n",
    "        val_images = images[train_count:]\n",
    "\n",
    "        # Process the training and validation images\n",
    "        process_images(train_images, data_dir, label_dir, image_train_dir, label_train_dir)\n",
    "        process_images(val_images, data_dir, label_dir, image_val_dir, label_val_dir)\n",
    "\n",
    "print(\"Images have been successfully sampled to the training and validation directories.\")\n"
   ]
  }
 ],
 "metadata": {
  "kernelspec": {
   "display_name": "Python 3",
   "language": "python",
   "name": "python3"
  },
  "language_info": {
   "codemirror_mode": {
    "name": "ipython",
    "version": 3
   },
   "file_extension": ".py",
   "mimetype": "text/x-python",
   "name": "python",
   "nbconvert_exporter": "python",
   "pygments_lexer": "ipython3",
   "version": "3.12.3"
  }
 },
 "nbformat": 4,
 "nbformat_minor": 2
}
