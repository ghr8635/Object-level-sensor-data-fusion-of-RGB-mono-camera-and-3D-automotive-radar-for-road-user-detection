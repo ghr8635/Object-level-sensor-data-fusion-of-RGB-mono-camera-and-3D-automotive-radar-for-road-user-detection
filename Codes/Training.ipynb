{
 "cells": [
  {
   "cell_type": "code",
   "execution_count": null,
   "id": "initial_id",
   "metadata": {
    "collapsed": true
   },
   "outputs": [],
   "source": [
    "from ultralytics import YOLO\n",
    "import torch\n",
    "\n",
    "# Check if CUDA is available and set device accordingly\n",
    "device = torch.device('cuda' if torch.cuda.is_available() else 'cpu')\n",
    "print(f\"Using device: {device}\")\n",
    "# Load a model\n",
    "model = YOLO('yolov8l.pt')  # Load the model onto the selected device\n",
    "\n",
    "# Train the model\n",
    "results = model.train(data=r\"D:\\AUF-SEM 2\\Project\\Python\\data_yaml_file.yml\", epochs=300, batch=-1)"
   ]
  }
 ],
 "metadata": {
  "kernelspec": {
   "display_name": "Python 3",
   "language": "python",
   "name": "python3"
  },
  "language_info": {
   "codemirror_mode": {
    "name": "ipython",
    "version": 2
   },
   "file_extension": ".py",
   "mimetype": "text/x-python",
   "name": "python",
   "nbconvert_exporter": "python",
   "pygments_lexer": "ipython2",
   "version": "2.7.6"
  }
 },
 "nbformat": 4,
 "nbformat_minor": 5
}
