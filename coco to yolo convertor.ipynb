{
 "cells": [
  {
   "cell_type": "markdown",
   "metadata": {},
   "source": [
    "Note: For easy understanding, read the code from bottom to top"
   ]
  },
  {
   "cell_type": "code",
   "execution_count": 1,
   "metadata": {},
   "outputs": [],
   "source": [
    "from pathlib import Path\n",
    "import numpy as np\n",
    "import json\n",
    "import os"
   ]
  },
  {
   "cell_type": "code",
   "execution_count": 2,
   "metadata": {},
   "outputs": [],
   "source": [
    "#xywh to xcycwh coverter \n",
    "def xywh_to_xcycwh(bbox_array, width_of_image, height_of_image):\n",
    "\n",
    "    x_min, y_min, width, height = bbox_array[0], bbox_array[1], bbox_array[2], bbox_array[3]            #here width and height refers to bbox\n",
    "\n",
    "    x_center = x_min + (width/2)\n",
    "    y_center = y_min + (height/2)\n",
    "\n",
    "    #for normalizaton of dimensions\n",
    "    xc_normalized = x_center/width_of_image\n",
    "    yc_normalized = y_center/height_of_image\n",
    "    width_normalized = width/width_of_image\n",
    "    height_normalized = height/height_of_image\n",
    "    \n",
    "    return np.array([xc_normalized, yc_normalized, width_normalized, height_normalized], dtype=np.float32)\n",
    "    "
   ]
  },
  {
   "cell_type": "code",
   "execution_count": 3,
   "metadata": {},
   "outputs": [],
   "source": [
    "#extracting COCO data from json and convert it to YOLO format array\n",
    "def coco_to_yolo(json_file):\n",
    "    yolo_data = []\n",
    "    with open(json_file, 'r') as opened_file:\n",
    "        json_data = json.load(opened_file)\n",
    "\n",
    "        image_width = json_data['image']['width']\n",
    "        image_height = json_data['image']['height']\n",
    "\n",
    "        for item in json_data['annotations']:\n",
    "            local_array = []\n",
    "            local_array.append(item['category_id'])\n",
    "            local_array.extend(xywh_to_xcycwh(item['bbox'], image_width, image_height))\n",
    "            yolo_data.append(local_array)\n",
    "\n",
    "    return yolo_data"
   ]
  },
  {
   "cell_type": "code",
   "execution_count": 4,
   "metadata": {},
   "outputs": [],
   "source": [
    "#json to .txt converter (this function takes json file, extract yolo format and save this info to .txt fiel)\n",
    "def json_to_txt(json_file, label_folder):\n",
    "    yolo_array = coco_to_yolo(json_file)\n",
    "\n",
    "    file_name = os.path.splitext(os.path.basename(json_file))[0] + '.txt'\n",
    "    file_path = label_folder / file_name\n",
    "\n",
    "    with open(file_path, 'w') as txt_file:\n",
    "        for array in yolo_array:\n",
    "            txt_file.write(\" \".join(map(str, array)) + '\\n')"
   ]
  },
  {
   "cell_type": "code",
   "execution_count": 5,
   "metadata": {},
   "outputs": [],
   "source": [
    "source_path = Path(r'C:\\Users\\hussa\\OneDrive\\Desktop\\Project\\Dataset\\INFRA-3DRC_scene-23\\INFRA-3DRC_scene-23\\camera_01\\camera_01__annotation')\n",
    "destination_root = Path(r'C:\\Users\\hussa\\OneDrive\\Desktop\\Project\\Dataset\\INFRA-3DRC_scene-23\\INFRA-3DRC_scene-23\\camera_01')\n",
    "\n",
    "label_path  = Path(destination_root, 'labels')                  #creating a folder named labels in destination_root\n",
    "label_path.mkdir(exist_ok = True)\n",
    "\n",
    "for file in source_path.iterdir():\n",
    "    json_to_txt(file, label_path)\n",
    "    \n"
   ]
  },
  {
   "cell_type": "code",
   "execution_count": null,
   "metadata": {},
   "outputs": [],
   "source": []
  }
 ],
 "metadata": {
  "kernelspec": {
   "display_name": "base",
   "language": "python",
   "name": "python3"
  },
  "language_info": {
   "codemirror_mode": {
    "name": "ipython",
    "version": 3
   },
   "file_extension": ".py",
   "mimetype": "text/x-python",
   "name": "python",
   "nbconvert_exporter": "python",
   "pygments_lexer": "ipython3",
   "version": "3.11.7"
  }
 },
 "nbformat": 4,
 "nbformat_minor": 2
}
